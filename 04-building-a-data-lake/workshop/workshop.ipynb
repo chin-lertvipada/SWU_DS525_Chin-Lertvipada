{
 "cells": [
  {
   "cell_type": "markdown",
   "id": "e134d351-6667-4bba-9a9e-e89970c40cfb",
   "metadata": {},
   "source": [
    "# Breakfast at the Frat: A Time Series Analysis\n",
    "\n",
    "Sales and promotion information on the top five products from each of the top three brands within four selected categories (mouthwash, pretzels, frozen pizza, and boxed cereal), gathered from a sample of stores over 156 weeks.\n",
    "\n",
    "- Unit sales, households, visits, and spend data by product, store, and week\n",
    "- Base Price and Actual Shelf Price, to determine a product’s discount, if any\n",
    "- Promotional support details (e.g., sale tag, in-store display), if applicable for the given product/store/week\n",
    "- Store information, including size and location, as well as a price tier designation (e.g., upscale vs. value)\n",
    "- Product information, including UPC, size, and description\n",
    "\n",
    "To identify outliers, it is suggested to look at\n",
    "\n",
    "- The ratio of units vs. number of visits\n",
    "- The ratio of visits vs. number of households\n",
    "- Some items that may be out-of-stock or discontinued for a store\n",
    "\n",
    "**Source:** https://www.dunnhumby.com/source-files/"
   ]
  },
  {
   "cell_type": "code",
   "execution_count": 1,
   "id": "b796ca6e-ac95-406d-91fe-1383419620d1",
   "metadata": {},
   "outputs": [],
   "source": [
    "from pyspark.sql import SparkSession\n",
    "import pandas as pd"
   ]
  },
  {
   "cell_type": "code",
   "execution_count": 2,
   "id": "268e7e7b-7431-43c0-9b6f-1d50e758b00e",
   "metadata": {},
   "outputs": [],
   "source": [
    "spark = SparkSession.builder \\\n",
    "    .appName(\"breakfast\") \\\n",
    "    .getOrCreate()"
   ]
  },
  {
   "cell_type": "code",
   "execution_count": 3,
   "id": "d66c43ba-edd2-486b-92b4-8a8b1ae3bd7e",
   "metadata": {},
   "outputs": [],
   "source": [
    "product_data_folder = \"dataset/products\"\n",
    "store_data_folder = \"dataset/stores\"\n",
    "transaction_data_folder = \"dataset/transactions\""
   ]
  },
  {
   "cell_type": "markdown",
   "id": "14f9105f-ff68-4a3e-a3a6-3f71fef1ce0b",
   "metadata": {},
   "source": [
    "### Perform ETL to Answer the Following Questions\n",
    "\n",
    "1. What is the range of prices offered on products?\n",
    "1. What is the impact on units/visit of promotions by geographies?\n",
    "1. Which products would you lower the price to increase sales?"
   ]
  },
  {
   "cell_type": "code",
   "execution_count": 4,
   "id": "0806160a-c6f0-4f26-88df-0e7943c6323b",
   "metadata": {},
   "outputs": [],
   "source": [
    "product_df = spark. \\\n",
    "                read. \\\n",
    "                option('header',True). \\\n",
    "                csv(product_data_folder)"
   ]
  },
  {
   "cell_type": "code",
   "execution_count": 5,
   "id": "4e70fe95-3f8d-4fd6-ab89-de478e0febf4",
   "metadata": {},
   "outputs": [
    {
     "name": "stdout",
     "output_type": "stream",
     "text": [
      "+----------+--------------------+-------------+--------------------+--------------------+------------+\n",
      "|       UPC|         DESCRIPTION| MANUFACTURER|            CATEGORY|        SUB_CATEGORY|PRODUCT_SIZE|\n",
      "+----------+--------------------+-------------+--------------------+--------------------+------------+\n",
      "|1111009477|PL MINI TWIST PRE...|PRIVATE LABEL|          BAG SNACKS|            PRETZELS|       15 OZ|\n",
      "|1111009497|   PL PRETZEL STICKS|PRIVATE LABEL|          BAG SNACKS|            PRETZELS|       15 OZ|\n",
      "|1111009507|   PL TWIST PRETZELS|PRIVATE LABEL|          BAG SNACKS|            PRETZELS|       15 OZ|\n",
      "|1111035398|PL BL MINT ANTSPT...|PRIVATE LABEL|ORAL HYGIENE PROD...|MOUTHWASHES (ANTI...|      1.5 LT|\n",
      "|1111038078|PL BL MINT ANTSPT...|PRIVATE LABEL|ORAL HYGIENE PROD...|MOUTHWASHES (ANTI...|      500 ML|\n",
      "+----------+--------------------+-------------+--------------------+--------------------+------------+\n",
      "only showing top 5 rows\n",
      "\n"
     ]
    }
   ],
   "source": [
    "product_df.show(5)"
   ]
  },
  {
   "cell_type": "code",
   "execution_count": null,
   "id": "5e5f39d3-124f-46d0-bda9-96f3f76fd1f7",
   "metadata": {},
   "outputs": [],
   "source": []
  },
  {
   "cell_type": "code",
   "execution_count": 6,
   "id": "bd4bc927-c2c1-4cd9-a4ea-4a38efeeb260",
   "metadata": {},
   "outputs": [],
   "source": [
    "store_df = spark. \\\n",
    "                read. \\\n",
    "                option('header',True). \\\n",
    "                csv(store_data_folder)"
   ]
  },
  {
   "cell_type": "code",
   "execution_count": 7,
   "id": "b62088f2-38df-4f5a-984c-b3119155fca2",
   "metadata": {},
   "outputs": [
    {
     "name": "stdout",
     "output_type": "stream",
     "text": [
      "+--------+------------------+-----------------+-----------------------+--------+--------------+-----------------+-------------------+------------------+\n",
      "|STORE_ID|        STORE_NAME|ADDRESS_CITY_NAME|ADDRESS_STATE_PROV_CODE|MSA_CODE|SEG_VALUE_NAME|PARKING_SPACE_QTY|SALES_AREA_SIZE_NUM|AVG_WEEKLY_BASKETS|\n",
      "+--------+------------------+-----------------+-----------------------+--------+--------------+-----------------+-------------------+------------------+\n",
      "|     389|        SILVERLAKE|         ERLANGER|                     KY|   17140|    MAINSTREAM|              408|              46073|             24767|\n",
      "|    2277|ANDERSON TOWNE CTR|       CINCINNATI|                     OH|   17140|       UPSCALE|             null|              81958|             54053|\n",
      "|    4259|     WARSAW AVENUE|       CINCINNATI|                     OH|   17140|         VALUE|             null|              48813|             31177|\n",
      "|    6379|          KINGWOOD|         KINGWOOD|                     TX|   26420|    MAINSTREAM|             null|              50237|             20620|\n",
      "|    6431|      AT WARD ROAD|          BAYTOWN|                     TX|   26420|         VALUE|              350|              43698|             24322|\n",
      "+--------+------------------+-----------------+-----------------------+--------+--------------+-----------------+-------------------+------------------+\n",
      "only showing top 5 rows\n",
      "\n"
     ]
    }
   ],
   "source": [
    "store_df.show(5)"
   ]
  },
  {
   "cell_type": "code",
   "execution_count": null,
   "id": "4c5a1d5c-f4f2-4cb1-8357-59c4138247f6",
   "metadata": {},
   "outputs": [],
   "source": []
  },
  {
   "cell_type": "code",
   "execution_count": 8,
   "id": "a5318f01-6ecc-4222-87d1-1198958f8e5e",
   "metadata": {},
   "outputs": [],
   "source": [
    "transactions_df = spark.read.option(\"header\",True).csv(transaction_data_folder)"
   ]
  },
  {
   "cell_type": "code",
   "execution_count": 44,
   "id": "ed0c0464-9aea-4791-8a95-d38ebf133334",
   "metadata": {},
   "outputs": [
    {
     "name": "stdout",
     "output_type": "stream",
     "text": [
      "+-------------+---------+----------+-----+------+---+-----+-----+----------+-------+-------+--------+\n",
      "|WEEK_END_DATE|STORE_NUM|       UPC|UNITS|VISITS|HHS|SPEND|PRICE|BASE_PRICE|FEATURE|DISPLAY|TPR_ONLY|\n",
      "+-------------+---------+----------+-----+------+---+-----+-----+----------+-------+-------+--------+\n",
      "|    14-Jan-09|      367|1111009477|   13|    13| 13|18.07| 1.39|      1.57|      0|      0|       1|\n",
      "|    14-Jan-09|      367|1111009497|   20|    18| 18| 27.8| 1.39|      1.39|      0|      0|       0|\n",
      "|    14-Jan-09|      367|1111009507|   14|    14| 14|19.32| 1.38|      1.38|      0|      0|       0|\n",
      "|    14-Jan-09|      367|1111035398|    4|     3|  3|   14|  3.5|      4.49|      0|      0|       1|\n",
      "|    14-Jan-09|      367|1111038078|    3|     3|  3|  7.5|  2.5|       2.5|      0|      0|       0|\n",
      "+-------------+---------+----------+-----+------+---+-----+-----+----------+-------+-------+--------+\n",
      "only showing top 5 rows\n",
      "\n"
     ]
    }
   ],
   "source": [
    "transactions_df.show(5)"
   ]
  },
  {
   "cell_type": "code",
   "execution_count": null,
   "id": "d06f6f02-c61a-4dc4-8c31-007ee5613b26",
   "metadata": {},
   "outputs": [],
   "source": []
  },
  {
   "cell_type": "code",
   "execution_count": 11,
   "id": "270fce8c-1603-400a-bd0c-5979bd062f3d",
   "metadata": {},
   "outputs": [],
   "source": [
    "# print(transactions.groupBy('UPC').agg({'PRICE': 'min'}).collect())\n",
    "# print(transactions.groupBy('UPC').agg({'PRICE': 'max'}).collect())"
   ]
  },
  {
   "cell_type": "code",
   "execution_count": null,
   "id": "cfc94197-85b1-4e89-9dc8-0ee9aa970edf",
   "metadata": {},
   "outputs": [],
   "source": []
  },
  {
   "cell_type": "code",
   "execution_count": 12,
   "id": "262292c2-8ae1-4249-b281-a1058e481d50",
   "metadata": {},
   "outputs": [],
   "source": [
    "product_df.createOrReplaceTempView('products')\n",
    "transactions_df.createOrReplaceTempView('transactions')\n",
    "store_df.createOrReplaceTempView('stores')"
   ]
  },
  {
   "cell_type": "code",
   "execution_count": 13,
   "id": "20cfba72-3f13-496c-89f6-cffaa6d8253a",
   "metadata": {},
   "outputs": [
    {
     "name": "stdout",
     "output_type": "stream",
     "text": [
      "+----------+--------------------+--------------------+---------+---------+------------------+\n",
      "|       UPC|         DESCRIPTION|            CATEGORY|MIN_PRICE|MAX_PRICE|         AVG_PRICE|\n",
      "+----------+--------------------+--------------------+---------+---------+------------------+\n",
      "|1111009477|PL MINI TWIST PRE...|          BAG SNACKS|     0.89|     1.83| 1.300309097001017|\n",
      "|1111009497|   PL PRETZEL STICKS|          BAG SNACKS|     0.86|     1.69|1.3023260869563715|\n",
      "|1111009507|   PL TWIST PRETZELS|          BAG SNACKS|      0.8|     1.69|1.3116138175375258|\n",
      "|1111035398|PL BL MINT ANTSPT...|ORAL HYGIENE PROD...|        1|     4.69|3.1535704656228067|\n",
      "|1111038078|PL BL MINT ANTSPT...|ORAL HYGIENE PROD...|     0.47|     3.08|1.4523977596016782|\n",
      "|1111038080|PL ANTSPTC SPG MN...|ORAL HYGIENE PROD...|     0.46|     4.18|1.4451583583208103|\n",
      "|1111085319|PL HONEY NUT TOAS...|         COLD CEREAL|     1.07|     1.99| 1.759916380968303|\n",
      "|1111085345|      PL RAISIN BRAN|         COLD CEREAL|     0.93|        2|1.7565792988313669|\n",
      "|1111085350|PL BT SZ FRSTD SH...|         COLD CEREAL|     1.03|     2.49|2.1355145030510796|\n",
      "|1111087395|PL SR CRUST SUPRM...|        FROZEN PIZZA|      1.4|     5.29| 3.587017513736251|\n",
      "|1111087396|PL SR CRUST 3 MEA...|        FROZEN PIZZA|     0.01|     5.49| 3.583729472774392|\n",
      "|1111087398|PL SR CRUST PEPPR...|        FROZEN PIZZA|     1.78|     5.29| 3.601132984116248|\n",
      "|1600027527|GM HONEY NUT CHEE...|         COLD CEREAL|      1.5|     3.39| 2.767561952440534|\n",
      "|1600027528|         GM CHEERIOS|         COLD CEREAL|      1.5|     5.19| 4.270656763748447|\n",
      "|1600027564|         GM CHEERIOS|         COLD CEREAL|     0.58|     3.56|2.7629106844740985|\n",
      "|2066200530|NWMN OWN PEPPERON...|        FROZEN PIZZA|     2.99|     6.99| 6.016294555425623|\n",
      "|2066200531|NWMN OWN 4 CHEESE...|        FROZEN PIZZA|     2.99|     6.99| 6.009884423430836|\n",
      "|2066200532|NWMN OWN SUPREME ...|        FROZEN PIZZA|        4|     6.99| 6.025117967331971|\n",
      "|2840002333|RLDGLD BRAIDED HO...|          BAG SNACKS|     1.65|     3.29|2.8865255884257097|\n",
      "|2840004768|RLDGLD TINY TWIST...|          BAG SNACKS|     1.65|     3.29| 2.886823254606727|\n",
      "+----------+--------------------+--------------------+---------+---------+------------------+\n",
      "only showing top 20 rows\n",
      "\n"
     ]
    }
   ],
   "source": [
    "# 1. What is the range of prices offered on products?\n",
    "\n",
    "products_price_range = spark.sql(\"\"\"\n",
    "                            select p.UPC\n",
    "                                , p.DESCRIPTION\n",
    "                                , p.CATEGORY\n",
    "                                , min(t.PRICE) as MIN_PRICE\n",
    "                                , max(t.PRICE) as MAX_PRICE\n",
    "                                , avg(t.PRICE) as AVG_PRICE\n",
    "                            from products p\n",
    "                            left join transactions t\n",
    "                            on p.UPC = t.UPC\n",
    "                            group by p.UPC, p.DESCRIPTION, p.CATEGORY\n",
    "                            order by p.UPC\n",
    "                        \"\"\")\n",
    "\n",
    "products_price_range.show()\n",
    "\n",
    "# destination = \"products_price_range\"\n",
    "# products_price_range.write.partitionBy(\"year\",\"month\",\"day\").mode(\"overwrite\").csv(destination)"
   ]
  },
  {
   "cell_type": "code",
   "execution_count": null,
   "id": "3e9ef3fa-041d-4828-9ed6-3df394b3f8e5",
   "metadata": {},
   "outputs": [],
   "source": []
  },
  {
   "cell_type": "code",
   "execution_count": 20,
   "id": "5f20bdb4-f999-41eb-866f-0744bd2ff4a0",
   "metadata": {},
   "outputs": [
    {
     "name": "stdout",
     "output_type": "stream",
     "text": [
      "+--------+---------------+-------+----------------+\n",
      "|STORE_ID|     STORE_NAME|DISPLAY|NUM_TRANSACTIONS|\n",
      "+--------+---------------+-------+----------------+\n",
      "|   10019| AT EASTEX FRWY|      0|            5107|\n",
      "|   10019| AT EASTEX FRWY|      1|             370|\n",
      "|   11757|   INDEPENDENCE|      0|            6458|\n",
      "|   11757|   INDEPENDENCE|      1|             834|\n",
      "|   11761| MIAMI TOWNSHIP|      0|            6704|\n",
      "|   11761| MIAMI TOWNSHIP|      1|            1033|\n",
      "|   11967|NORTHBOROUGH SQ|      0|            4822|\n",
      "|   11967|NORTHBOROUGH SQ|      1|             282|\n",
      "|   11993|         DALLAS|      0|            6360|\n",
      "|   11993|         DALLAS|      1|             552|\n",
      "|   12011|        SHERMAN|      0|            5608|\n",
      "|   12011|        SHERMAN|      1|             530|\n",
      "|   13609|       VANDALIA|      0|            6682|\n",
      "|   13609|       VANDALIA|      1|            1133|\n",
      "|   13827|       BEAUMONT|      0|            5893|\n",
      "|   13827|       BEAUMONT|      1|             720|\n",
      "|   13837|       MAGNOLIA|      0|            5629|\n",
      "|   13837|       MAGNOLIA|      1|             994|\n",
      "|   13853|     RICHARDSON|      0|            5394|\n",
      "|   13853|     RICHARDSON|      1|            1005|\n",
      "+--------+---------------+-------+----------------+\n",
      "only showing top 20 rows\n",
      "\n"
     ]
    }
   ],
   "source": [
    "# 2.What is the impact on units/visit of promotions by geographies?\n",
    "\n",
    "store_count_trans = spark.sql(\"\"\"\n",
    "                        select s.STORE_ID\n",
    "                            , s.STORE_NAME\n",
    "                            , t.DISPLAY\n",
    "                            , count(t.STORE_NUM) AS NUM_TRANSACTIONS\n",
    "                        from stores s\n",
    "                        left join transactions t \n",
    "                        on s.STORE_ID = t.STORE_NUM\n",
    "                        group by s.STORE_ID, s.STORE_NAME, t.DISPLAY\n",
    "                        order by s.STORE_ID, t.DISPLAY\n",
    "                    \"\"\")\n",
    "\n",
    "store_count_trans.show()"
   ]
  },
  {
   "cell_type": "code",
   "execution_count": null,
   "id": "eed9cf90-9d51-49bc-a733-d004efdaad00",
   "metadata": {},
   "outputs": [],
   "source": []
  },
  {
   "cell_type": "code",
   "execution_count": 64,
   "id": "edf16dc2-cb30-4bd7-8790-cd8cc5f4394a",
   "metadata": {},
   "outputs": [
    {
     "name": "stdout",
     "output_type": "stream",
     "text": [
      "+-----------+--------------------+--------------------+------------------+-------+------------------+------------------+------------------+------------------+------------------+\n",
      "|        UPC|         DESCRIPTION|            CATEGORY|         AVG_PRICE|SUM_AVG|       LOWER_PRICE|         SUM_LOWER|      HIGHER_PRICE|        SUM_HIGHER|               PCT|\n",
      "+-----------+--------------------+--------------------+------------------+-------+------------------+------------------+------------------+------------------+------------------+\n",
      "| 1111009477|PL MINI TWIST PRE...|          BAG SNACKS| 1.300309097001017|   null|1.1438495445194747| 7785.039999999545| 1.507803975058407| 7738.049999999744|  1.00607258934742|\n",
      "| 1111009497|   PL PRETZEL STICKS|          BAG SNACKS|1.3023260869563715|   null|1.1464658457929486| 7821.189999999496|1.5092701440248644| 7754.629999999753| 1.008583259291513|\n",
      "| 1111035398|PL BL MINT ANTSPT...|ORAL HYGIENE PROD...|3.1535704656228067|   null|2.9438728999269967|20150.810000000292|3.6665725518227297|10259.069999999998|1.9641946102327303|\n",
      "| 1111087395|PL SR CRUST SUPRM...|        FROZEN PIZZA| 3.587017513736251|   null|3.2326554223585497|23191.070000000236| 4.155232454179693|18590.509999999947| 1.247468197483571|\n",
      "| 1111087396|PL SR CRUST 3 MEA...|        FROZEN PIZZA| 3.583729472774392|   null|3.2447054737427563| 23355.39000000036| 4.141893870082337| 18108.35999999998|1.2897573275548082|\n",
      "| 1111087398|PL SR CRUST PEPPR...|        FROZEN PIZZA| 3.601132984116248|   null|3.2531477663230786|23666.650000000398| 4.156185047138762|18956.359999999895| 1.248480720982326|\n",
      "| 2066200530|NWMN OWN PEPPERON...|        FROZEN PIZZA| 6.016294555425623|   null| 5.805688953488498|19971.570000000433| 6.451158463385241|10747.629999999812| 1.858230140040249|\n",
      "| 2066200531|NWMN OWN 4 CHEESE...|        FROZEN PIZZA| 6.009884423430836|   null| 5.794701754385782| 14863.40999999953| 6.454283413848537| 8016.219999999883|1.8541669265563754|\n",
      "| 2066200532|NWMN OWN SUPREME ...|        FROZEN PIZZA| 6.025117967331971|   null| 5.763847926267115|10006.039999999712| 6.470225711481737|  6593.15999999989| 1.517639493050355|\n",
      "|31254742725|LSTRNE CL MINT AN...|ORAL HYGIENE PROD...| 4.052584481220683|   null|3.6594686907022904|21213.940000001177| 4.583299953423505| 19680.69000000053|1.0779063132441296|\n",
      "| 7027316204|SHURGD MINI PRETZELS|          BAG SNACKS|1.7556611978651684|   null| 1.562575757575754| 4537.719999999989| 2.015856148491881| 4344.170000000004|1.0445539654295264|\n",
      "+-----------+--------------------+--------------------+------------------+-------+------------------+------------------+------------------+------------------+------------------+\n",
      "\n"
     ]
    }
   ],
   "source": [
    "# 3. Which products would you lower the price to increase sales?\n",
    "\n",
    "product_price_trans = spark.sql(\"\"\"\n",
    "    with BASE as (\n",
    "                            select p.UPC\n",
    "                                 , p.DESCRIPTION\n",
    "                                 , p.CATEGORY\n",
    "                                 , avg(t.PRICE) AS AVG_PRICE\n",
    "                            from products p\n",
    "                            left join transactions t\n",
    "                            on t.UPC = p.UPC\n",
    "                            group by p.UPC, p.DESCRIPTION, p.CATEGORY\n",
    "    )\n",
    "    , LOWER as (\n",
    "                            select p.UPC\n",
    "                                , p.DESCRIPTION\n",
    "                                , p.CATEGORY\n",
    "                                , sum(t.PRICE) AS SUM_LOWER\n",
    "                                , avg(t.PRICE) AS LOWER_PRICE\n",
    "                            from products p\n",
    "                            left join BASE b\n",
    "                            on b.UPC = p.UPC\n",
    "                            left join transactions t\n",
    "                            on t.UPC = p.UPC\n",
    "                            and t.PRICE < b.AVG_PRICE\n",
    "                            group by p.UPC, p.DESCRIPTION, p.CATEGORY\n",
    "    ) \n",
    "    , HIGHER as (\n",
    "                            select p.UPC\n",
    "                                , p.DESCRIPTION\n",
    "                                , p.CATEGORY\n",
    "                                , sum(t.PRICE) AS SUM_HIGHER\n",
    "                                , avg(t.PRICE) AS HIGHER_PRICE\n",
    "                            from products p\n",
    "                            left join BASE b\n",
    "                            on b.UPC = p.UPC\n",
    "                            left join transactions t\n",
    "                            on t.UPC = p.UPC\n",
    "                            and t.PRICE > b.AVG_PRICE\n",
    "                            group by p.UPC, p.DESCRIPTION, p.CATEGORY\n",
    "    ) \n",
    "    , AVG as (\n",
    "                            select p.UPC\n",
    "                                , p.DESCRIPTION\n",
    "                                , p.CATEGORY\n",
    "                                , sum(t.PRICE) AS SUM_AVG\n",
    "                            from products p\n",
    "                            left join BASE b\n",
    "                            on b.UPC = p.UPC\n",
    "                            left join transactions t\n",
    "                            on t.UPC = p.UPC\n",
    "                            and t.PRICE = b.AVG_PRICE\n",
    "                            group by p.UPC, p.DESCRIPTION, p.CATEGORY\n",
    "    ) \n",
    "    select b.UPC\n",
    "         , b.DESCRIPTION\n",
    "         , b.CATEGORY\n",
    "         , b.AVG_PRICE\n",
    "         , a.SUM_AVG\n",
    "         , l.LOWER_PRICE\n",
    "         , l.SUM_LOWER\n",
    "         , h.HIGHER_PRICE\n",
    "         , h.SUM_HIGHER\n",
    "         , l.SUM_LOWER / h.SUM_HIGHER AS PCT\n",
    "    from BASE b\n",
    "    left join LOWER l \n",
    "    on l.UPC = b.UPC \n",
    "    left join HIGHER h\n",
    "    on h.UPC = b.UPC\n",
    "    left join AVG a\n",
    "    on a.UPC = b.UPC\n",
    "    where l.SUM_LOWER > h.SUM_HIGHER \n",
    "    order by b.UPC\n",
    "\"\"\")\n",
    "\n",
    "product_price_trans.show(100)"
   ]
  },
  {
   "cell_type": "code",
   "execution_count": null,
   "id": "992e8af8-4ff7-469d-8f4e-584c9de77879",
   "metadata": {},
   "outputs": [],
   "source": []
  },
  {
   "cell_type": "code",
   "execution_count": 17,
   "id": "a89a1159-99f6-4ad7-ba90-32f70e932538",
   "metadata": {},
   "outputs": [
    {
     "name": "stdout",
     "output_type": "stream",
     "text": [
      "+----------+------------+-----+----+-------------------+\n",
      "|       UPC|PRODUCT_SIZE|VALUE|UNIT|            SIZE_LT|\n",
      "+----------+------------+-----+----+-------------------+\n",
      "|1111009477|       15 OZ|   15|  OZ|              0.444|\n",
      "|1111009497|       15 OZ|   15|  OZ|              0.444|\n",
      "|1111009507|       15 OZ|   15|  OZ|              0.444|\n",
      "|1111035398|      1.5 LT|  1.5|  LT|                1.5|\n",
      "|1111038078|      500 ML|  500|  ML|                0.5|\n",
      "|1111038080|      500 ML|  500|  ML|                0.5|\n",
      "|1111085319|    12.25 OZ|12.25|  OZ|0.36260000000000003|\n",
      "|1111085345|       20 OZ|   20|  OZ| 0.5920000000000001|\n",
      "|1111085350|       18 OZ|   18|  OZ|             0.5328|\n",
      "|1111087395|     32.7 OZ| 32.7|  OZ| 0.9679200000000001|\n",
      "|1111087396|     30.5 OZ| 30.5|  OZ|             0.9028|\n",
      "|1111087398|     29.6 OZ| 29.6|  OZ|            0.87616|\n",
      "|1600027527|    12.25 OZ|12.25|  OZ|0.36260000000000003|\n",
      "|1600027528|       18 OZ|   18|  OZ|             0.5328|\n",
      "|1600027564|       12 OZ|   12|  OZ|             0.3552|\n",
      "|2066200530|     13.2 OZ| 13.2|  OZ|            0.39072|\n",
      "|2066200531|     13.3 OZ| 13.3|  OZ|0.39368000000000003|\n",
      "|2066200532|     14.7 OZ| 14.7|  OZ|            0.43512|\n",
      "|2840002333|       10 OZ|   10|  OZ|0.29600000000000004|\n",
      "|2840004768|       16 OZ|   16|  OZ|             0.4736|\n",
      "+----------+------------+-----+----+-------------------+\n",
      "only showing top 20 rows\n",
      "\n"
     ]
    }
   ],
   "source": [
    "# Transform product_size\n",
    "\n",
    "spark.sql(\"\"\"\n",
    "    select p.UPC\n",
    "    , p.PRODUCT_SIZE\n",
    "    , split(product_size, ' ')[0] as VALUE\n",
    "    , split(product_size, ' ')[1] as UNIT\n",
    "    , case when split(product_size, ' ')[1] = 'OZ' \n",
    "           then split(product_size, ' ')[0] * 0.0296\n",
    "           when split(product_size, ' ')[1] = 'ML'\n",
    "           then split(product_size, ' ')[0] * 0.001\n",
    "           else split(product_size, ' ')[0]\n",
    "           end AS SIZE_LT\n",
    "    from products p\n",
    "\"\"\").show()"
   ]
  },
  {
   "cell_type": "code",
   "execution_count": null,
   "id": "22c585ce-b7b4-46b3-9fff-2aecc8232e0e",
   "metadata": {},
   "outputs": [],
   "source": []
  }
 ],
 "metadata": {
  "kernelspec": {
   "display_name": "Python 3 (ipykernel)",
   "language": "python",
   "name": "python3"
  },
  "language_info": {
   "codemirror_mode": {
    "name": "ipython",
    "version": 3
   },
   "file_extension": ".py",
   "mimetype": "text/x-python",
   "name": "python",
   "nbconvert_exporter": "python",
   "pygments_lexer": "ipython3",
   "version": "3.10.6"
  },
  "vscode": {
   "interpreter": {
    "hash": "aee8b7b246df8f9039afb4144a1f6fd8d2ca17a180786b69acc140d282b71a49"
   }
  }
 },
 "nbformat": 4,
 "nbformat_minor": 5
}
